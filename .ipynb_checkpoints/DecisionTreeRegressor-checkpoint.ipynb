{
 "cells": [
  {
   "cell_type": "code",
   "execution_count": 68,
   "id": "0200a21d-3c51-44ff-8082-0406983915e2",
   "metadata": {},
   "outputs": [],
   "source": [
    "import numpy as np\n",
    "import pandas as pd \n",
    "from sklearn.tree import DecisionTreeRegressor\n",
    "\n",
    "Model = DecisionTreeRegressor(random_state = 1)"
   ]
  },
  {
   "cell_type": "code",
   "execution_count": 69,
   "id": "4aeeb7f2-e05c-4fd5-b8c8-7dff210c2381",
   "metadata": {},
   "outputs": [
    {
     "data": {
      "text/plain": [
       "Index(['Price', 'ReviewsCount', 'Rating'], dtype='object')"
      ]
     },
     "execution_count": 69,
     "metadata": {},
     "output_type": "execute_result"
    }
   ],
   "source": [
    "Raw_Data = pd.read_excel(\"C:\\\\Users\\\\aryan\\\\Downloads\\\\archive (2)\\\\HotelFinalDataset.xlsx\")\n",
    "F_Data = Raw_Data.drop(columns=[\"S.No\",\"Name\",\"State\",\"Place\",\"City\",\"Type\"])\n",
    "Data = F_Data.dropna(axis=0)\n",
    "Data.columns"
   ]
  },
  {
   "cell_type": "code",
   "execution_count": 70,
   "id": "b19f1086-bdb8-4aa3-a19e-babeb8b78ca7",
   "metadata": {},
   "outputs": [
    {
     "data": {
      "text/html": [
       "<div>\n",
       "<style scoped>\n",
       "    .dataframe tbody tr th:only-of-type {\n",
       "        vertical-align: middle;\n",
       "    }\n",
       "\n",
       "    .dataframe tbody tr th {\n",
       "        vertical-align: top;\n",
       "    }\n",
       "\n",
       "    .dataframe thead th {\n",
       "        text-align: right;\n",
       "    }\n",
       "</style>\n",
       "<table border=\"1\" class=\"dataframe\">\n",
       "  <thead>\n",
       "    <tr style=\"text-align: right;\">\n",
       "      <th></th>\n",
       "      <th>Price</th>\n",
       "      <th>ReviewsCount</th>\n",
       "      <th>Rating</th>\n",
       "    </tr>\n",
       "  </thead>\n",
       "  <tbody>\n",
       "    <tr>\n",
       "      <th>0</th>\n",
       "      <td>7887</td>\n",
       "      <td>778.0</td>\n",
       "      <td>8.4</td>\n",
       "    </tr>\n",
       "    <tr>\n",
       "      <th>1</th>\n",
       "      <td>15267</td>\n",
       "      <td>500.0</td>\n",
       "      <td>8.1</td>\n",
       "    </tr>\n",
       "    <tr>\n",
       "      <th>2</th>\n",
       "      <td>13063</td>\n",
       "      <td>1605.0</td>\n",
       "      <td>7.4</td>\n",
       "    </tr>\n",
       "    <tr>\n",
       "      <th>3</th>\n",
       "      <td>12854</td>\n",
       "      <td>500.0</td>\n",
       "      <td>9.0</td>\n",
       "    </tr>\n",
       "    <tr>\n",
       "      <th>4</th>\n",
       "      <td>9471</td>\n",
       "      <td>500.0</td>\n",
       "      <td>8.8</td>\n",
       "    </tr>\n",
       "  </tbody>\n",
       "</table>\n",
       "</div>"
      ],
      "text/plain": [
       "   Price  ReviewsCount  Rating\n",
       "0   7887         778.0     8.4\n",
       "1  15267         500.0     8.1\n",
       "2  13063        1605.0     7.4\n",
       "3  12854         500.0     9.0\n",
       "4   9471         500.0     8.8"
      ]
     },
     "execution_count": 70,
     "metadata": {},
     "output_type": "execute_result"
    }
   ],
   "source": [
    "X = Data[[\"Price\",\"ReviewsCount\",\"Rating\"]]\n",
    "Y = Data.Price\n",
    "X.head()"
   ]
  },
  {
   "cell_type": "code",
   "execution_count": 71,
   "id": "f4f3e930-13af-4ee2-8f72-81c8fa06915d",
   "metadata": {},
   "outputs": [
    {
     "data": {
      "text/plain": [
       "DecisionTreeRegressor(random_state=1)"
      ]
     },
     "execution_count": 71,
     "metadata": {},
     "output_type": "execute_result"
    }
   ],
   "source": [
    "Model.fit(X,Y)"
   ]
  },
  {
   "cell_type": "code",
   "execution_count": 72,
   "id": "5f4773b2-e509-47e1-b19f-f3370511f682",
   "metadata": {},
   "outputs": [
    {
     "name": "stdout",
     "output_type": "stream",
     "text": [
      "   Price  ReviewsCount  Rating\n",
      "0   7887         778.0     8.4\n",
      "1  15267         500.0     8.1\n",
      "2  13063        1605.0     7.4\n",
      "3  12854         500.0     9.0\n",
      "4   9471         500.0     8.8\n",
      "[ 7887. 15267. 13063. 12854.  9471.]\n"
     ]
    }
   ],
   "source": [
    "print(X.head())\n",
    "print(Model.predict(X.head()))"
   ]
  },
  {
   "cell_type": "code",
   "execution_count": null,
   "id": "9bcf8fa5-33ee-4098-a04e-69219efce2b6",
   "metadata": {},
   "outputs": [],
   "source": []
  },
  {
   "cell_type": "code",
   "execution_count": null,
   "id": "26c41f21-1d76-46f2-aa44-5cdb22e1c5f6",
   "metadata": {},
   "outputs": [],
   "source": []
  }
 ],
 "metadata": {
  "kernelspec": {
   "display_name": "Python 3",
   "language": "python",
   "name": "python3"
  },
  "language_info": {
   "codemirror_mode": {
    "name": "ipython",
    "version": 3
   },
   "file_extension": ".py",
   "mimetype": "text/x-python",
   "name": "python",
   "nbconvert_exporter": "python",
   "pygments_lexer": "ipython3",
   "version": "3.8.8"
  }
 },
 "nbformat": 4,
 "nbformat_minor": 5
}
