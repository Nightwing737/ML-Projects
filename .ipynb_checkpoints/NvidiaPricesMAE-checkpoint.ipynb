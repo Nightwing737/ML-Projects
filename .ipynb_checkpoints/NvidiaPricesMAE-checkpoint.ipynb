{
 "cells": [
  {
   "cell_type": "code",
   "execution_count": 13,
   "id": "b9a42674-a0fe-4561-95f8-a768383f380c",
   "metadata": {},
   "outputs": [],
   "source": [
    "# This for training the model and visualizing the predictions and actual values\n",
    "\n",
    "# Importing Required Libraries\n",
    "import numpy as np\n",
    "import pandas as pd \n",
    "import matplotlib.pyplot as plt\n",
    "from sklearn.tree import DecisionTreeRegressor\n",
    "from sklearn.metrics import mean_absolute_error\n",
    "from sklearn.model_selection import train_test_split\n",
    "\n",
    "# Creating the Model\n",
    "Model = DecisionTreeRegressor(random_state = 1)"
   ]
  },
  {
   "cell_type": "code",
   "execution_count": 14,
   "id": "f81bce93-0ea6-402b-94da-a4725ac763f1",
   "metadata": {},
   "outputs": [],
   "source": [
    "# Reading File\n",
    "Data = pd.read_csv(\"C:\\\\Users\\\\aryan\\\\Downloads\\\\NVDA.csv\")\n",
    "\n",
    "# Dropping Unnamed columns\n",
    "Change = {\"Unnamed: 11\": \"a\",\n",
    "        \"Unnamed: 12\": \"b\"}\n",
    "Data.rename(columns=Change, inplace=True)\n",
    "new_drop = [\"a\",\"b\"]\n",
    "Data.drop(new_drop, inplace=True, axis=1)\n",
    "\n",
    "# Making new file\n",
    "Year = int(2018)\n",
    "TVal = Data[Data[\"Year\"].isin([Year])]\n",
    "Val = TVal.round(decimals=3)\n",
    "\n",
    "# Feature and Prediction Target Selection\n",
    "X = Val[[\"High\",\"Low\"]]\n",
    "Y = Val.Average\n",
    "\n",
    "# Train Test Split \n",
    "train_X, val_X, train_Y, val_Y = train_test_split(X,Y,random_state = 0)"
   ]
  },
  {
   "cell_type": "code",
   "execution_count": 15,
   "id": "403dba43-00a6-45db-9f86-522972135ab1",
   "metadata": {},
   "outputs": [
    {
     "name": "stdout",
     "output_type": "stream",
     "text": [
      "0.2786349206349211\n"
     ]
    }
   ],
   "source": [
    "# Training Data \n",
    "Model.fit(train_X, train_Y)\n",
    "Train_Pred = Model.predict(val_X)\n",
    "print(mean_absolute_error(val_Y, Train_Pred))"
   ]
  },
  {
   "cell_type": "code",
   "execution_count": 16,
   "id": "2d635375-a0d1-43f8-915b-e1ca1d9dba5b",
   "metadata": {},
   "outputs": [
    {
     "data": {
      "text/plain": [
       "'fig = plt.figure(figsize=(200,200))\\nDisplay = tree.plot_tree(Model, filled=True)\\n\\nfig.savefig(\"decisiontree.png\",facecolor=\"#ffffff\")'"
      ]
     },
     "execution_count": 16,
     "metadata": {},
     "output_type": "execute_result"
    }
   ],
   "source": [
    "# Export DecisionTree as a figure (Commented out to save processing power)\n",
    "'''fig = plt.figure(figsize=(200,200))\n",
    "Display = tree.plot_tree(Model, filled=True)\n",
    "\n",
    "fig.savefig(\"decisiontree.png\",facecolor=\"#ffffff\")'''"
   ]
  },
  {
   "cell_type": "code",
   "execution_count": 17,
   "id": "a51a1dbe-b892-4fcc-8c02-835c74baccfc",
   "metadata": {},
   "outputs": [],
   "source": [
    "# Exporting Data to a new csv file\n",
    "Result = pd.read_csv(\"C:\\\\Users\\\\aryan\\\\Downloads\\\\Results.csv\")"
   ]
  },
  {
   "cell_type": "code",
   "execution_count": 18,
   "id": "d4e190cf-b0ce-4e00-a48a-8cb8bce897d6",
   "metadata": {},
   "outputs": [
    {
     "name": "stdout",
     "output_type": "stream",
     "text": [
      "63\n"
     ]
    },
    {
     "data": {
      "text/html": [
       "<div>\n",
       "<style scoped>\n",
       "    .dataframe tbody tr th:only-of-type {\n",
       "        vertical-align: middle;\n",
       "    }\n",
       "\n",
       "    .dataframe tbody tr th {\n",
       "        vertical-align: top;\n",
       "    }\n",
       "\n",
       "    .dataframe thead th {\n",
       "        text-align: right;\n",
       "    }\n",
       "</style>\n",
       "<table border=\"1\" class=\"dataframe\">\n",
       "  <thead>\n",
       "    <tr style=\"text-align: right;\">\n",
       "      <th></th>\n",
       "      <th>Actual Values</th>\n",
       "      <th>Predicted Values</th>\n",
       "      <th>Serial No.</th>\n",
       "    </tr>\n",
       "  </thead>\n",
       "  <tbody>\n",
       "    <tr>\n",
       "      <th>294</th>\n",
       "      <td>63.600</td>\n",
       "      <td>63.940</td>\n",
       "      <td>1</td>\n",
       "    </tr>\n",
       "    <tr>\n",
       "      <th>263</th>\n",
       "      <td>60.241</td>\n",
       "      <td>60.292</td>\n",
       "      <td>2</td>\n",
       "    </tr>\n",
       "    <tr>\n",
       "      <th>233</th>\n",
       "      <td>61.800</td>\n",
       "      <td>61.666</td>\n",
       "      <td>3</td>\n",
       "    </tr>\n",
       "    <tr>\n",
       "      <th>299</th>\n",
       "      <td>62.087</td>\n",
       "      <td>61.735</td>\n",
       "      <td>4</td>\n",
       "    </tr>\n",
       "    <tr>\n",
       "      <th>290</th>\n",
       "      <td>62.985</td>\n",
       "      <td>62.949</td>\n",
       "      <td>5</td>\n",
       "    </tr>\n",
       "    <tr>\n",
       "      <th>...</th>\n",
       "      <td>...</td>\n",
       "      <td>...</td>\n",
       "      <td>...</td>\n",
       "    </tr>\n",
       "    <tr>\n",
       "      <th>275</th>\n",
       "      <td>62.255</td>\n",
       "      <td>62.153</td>\n",
       "      <td>59</td>\n",
       "    </tr>\n",
       "    <tr>\n",
       "      <th>156</th>\n",
       "      <td>59.255</td>\n",
       "      <td>59.456</td>\n",
       "      <td>60</td>\n",
       "    </tr>\n",
       "    <tr>\n",
       "      <th>332</th>\n",
       "      <td>70.304</td>\n",
       "      <td>70.528</td>\n",
       "      <td>61</td>\n",
       "    </tr>\n",
       "    <tr>\n",
       "      <th>215</th>\n",
       "      <td>57.488</td>\n",
       "      <td>57.709</td>\n",
       "      <td>62</td>\n",
       "    </tr>\n",
       "    <tr>\n",
       "      <th>148</th>\n",
       "      <td>56.185</td>\n",
       "      <td>56.165</td>\n",
       "      <td>63</td>\n",
       "    </tr>\n",
       "  </tbody>\n",
       "</table>\n",
       "<p>63 rows × 3 columns</p>\n",
       "</div>"
      ],
      "text/plain": [
       "     Actual Values  Predicted Values  Serial No.\n",
       "294         63.600            63.940           1\n",
       "263         60.241            60.292           2\n",
       "233         61.800            61.666           3\n",
       "299         62.087            61.735           4\n",
       "290         62.985            62.949           5\n",
       "..             ...               ...         ...\n",
       "275         62.255            62.153          59\n",
       "156         59.255            59.456          60\n",
       "332         70.304            70.528          61\n",
       "215         57.488            57.709          62\n",
       "148         56.185            56.165          63\n",
       "\n",
       "[63 rows x 3 columns]"
      ]
     },
     "execution_count": 18,
     "metadata": {},
     "output_type": "execute_result"
    }
   ],
   "source": [
    "New_list = []\n",
    "\n",
    "df = pd.DataFrame({\"Actual Values\": val_Y, \n",
    "                   \"Predicted Values\": Train_Pred})\n",
    "\n",
    "# Adding data to the array\n",
    "for i in range(1,len(df)+1):\n",
    "    New_list.append(i)\n",
    "\n",
    "# Creating new Serial No. column and making it a csv file\n",
    "print(len(df))\n",
    "df[\"Serial No.\"] = New_list\n",
    "df.to_csv(\"Results.csv\")\n",
    "df"
   ]
  },
  {
   "cell_type": "code",
   "execution_count": 19,
   "id": "2c4fdd8c-bc5e-40d5-9d3e-491b6e44ae9a",
   "metadata": {},
   "outputs": [],
   "source": [
    "# Preparing for plotting\n",
    "Res_X = Result[\"Serial No.\"]\n",
    "Res_Y = Result[\"Actual Values\"]\n",
    "Res_Z = Result[\"Predicted Values\"]"
   ]
  },
  {
   "cell_type": "code",
   "execution_count": 20,
   "id": "66c908b5-b48a-4b6e-80ab-21fcfa4ed267",
   "metadata": {},
   "outputs": [
    {
     "data": {
      "text/plain": [
       "<matplotlib.legend.Legend at 0x24b02e53910>"
      ]
     },
     "execution_count": 20,
     "metadata": {},
     "output_type": "execute_result"
    },
    {
     "data": {
      "image/png": "[encoded data removed]",
      "text/plain": [
       "<Figure size 432x288 with 1 Axes>"
      ]
     },
     "metadata": {
      "needs_background": "light"
     },
     "output_type": "display_data"
    }
   ],
   "source": [
    "# Plotting True and Predicted Prices \n",
    "fig, ax = plt.subplots()\n",
    "ax.plot(Res_X,Res_Y,label = \"True Prices\")\n",
    "ax.plot(Res_X,Res_Z,label = \"Predicted Prices\")\n",
    "ax.set_title(\"Plotting of Pred and True Values\")\n",
    "LabelX = ax.set_xlabel(\"Prices\")\n",
    "LabelY = ax.set_ylabel(\"Serial Numbers\")\n",
    "ax.legend()"
   ]
  },
  {
   "cell_type": "code",
   "execution_count": 21,
   "id": "43e8a489-4524-4966-afeb-fc122f089298",
   "metadata": {},
   "outputs": [
    {
     "name": "stdout",
     "output_type": "stream",
     "text": [
      "[37.314]\n"
     ]
    }
   ],
   "source": [
    "# Predicting own values\n",
    "Y_Pred = Model.predict([[38,37]])\n",
    "print(Y_Pred)"
   ]
  },
  {
   "cell_type": "code",
   "execution_count": null,
   "id": "c7ede897-bb4c-49c1-9fb8-5d9fbc76abb8",
   "metadata": {},
   "outputs": [],
   "source": []
  }
 ],
 "metadata": {
  "kernelspec": {
   "display_name": "Python 3",
   "language": "python",
   "name": "python3"
  },
  "language_info": {
   "codemirror_mode": {
    "name": "ipython",
    "version": 3
   },
   "file_extension": ".py",
   "mimetype": "text/x-python",
   "name": "python",
   "nbconvert_exporter": "python",
   "pygments_lexer": "ipython3",
   "version": "3.8.8"
  },
  "vscode": {
   "interpreter": {
    "hash": "287ee184d78959fade4213e06aa8453c71d17316fcbc60aa682b94ecd5afe758"
   }
  }
 },
 "nbformat": 4,
 "nbformat_minor": 5
}
